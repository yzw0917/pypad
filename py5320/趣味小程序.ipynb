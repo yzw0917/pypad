{
 "cells": [
  {
   "cell_type": "code",
   "execution_count": null,
   "metadata": {},
   "outputs": [],
   "source": [
    "#文本进度条\n",
    "import time\n",
    "\n",
    "def bar(scale):\n",
    "    print('===========执行开始============')\n",
    "    for i in range(scale + 1):\n",
    "        a = '*' * i\n",
    "        b = '.' * (scale - i)\n",
    "        c = (i / scale) * 100\n",
    "        print('\\r{:^3.0f}%[{}->{}]'.format(c, a, b), end = '')\n",
    "        time.sleep(0.05)\n",
    "    print('\\n===========执行结束============')\n",
    "bar(int(input(\"输入个进度条数字\")))"
   ]
  },
  {
   "cell_type": "code",
   "execution_count": 3,
   "metadata": {},
   "outputs": [
    {
     "name": "stdout",
     "output_type": "stream",
     "text": [
      "===========执行开始==========\n",
      "100%[**************************************************->] 2.59s\n",
      "===========执行结束==========\n"
     ]
    }
   ],
   "source": [
    "import time\n",
    "\n",
    "def pro_bar(scale):\n",
    "    print('执行开始'.center(scale // 2, '='))\n",
    "    start = time.perf_counter()\n",
    "    for i in range(scale + 1):\n",
    "        a = '*' * i\n",
    "        b = '.' * (scale - i)\n",
    "        c = (i / scale) * 100\n",
    "        dur = time.perf_counter() - start\n",
    "        print('\\r{:^3.0f}%[{}->{}] {:.2f}s'.format(c, a, b, dur), end = '')\n",
    "        time.sleep(0.05)\n",
    "    print('\\n' + '执行结束'.center(scale // 2, '='))\n",
    "\n",
    "pro_bar(50)"
   ]
  },
  {
   "cell_type": "code",
   "execution_count": null,
   "metadata": {},
   "outputs": [],
   "source": [
    "# -*- coding: utf-8 -*-\n",
    "\n",
    "# 输入数据\n",
    "def getNum():\n",
    "    nums = []\n",
    "    iNumStr = input('输入1个数字后Enter确认（两次Enter结束）: ')\n",
    "    while iNumStr != '':\n",
    "        nums.append(eval(iNumStr))\n",
    "        iNumStr = input('输入1个数字后Enter确认（两次Enter结束）: ')\n",
    "    return nums\n",
    "\n",
    "# 平均数\n",
    "def average(numbers):\n",
    "    return sum(numbers) / len(numbers)\n",
    "\n",
    "# 标准差\n",
    "def dev(numbers, average):\n",
    "    sdev = 0.0\n",
    "    for num in numbers:\n",
    "        sdev += (num - average) ** 2\n",
    "    return pow(sdev / len(numbers), 0.5)\n",
    "\n",
    "# 中位数\n",
    "def median(numbers):\n",
    "    sorted(numbers)\n",
    "    size = len(numbers)\n",
    "    if size % 2 == 0:\n",
    "        return (numbers[size//2-1] + numbers[size//2]) / 2\n",
    "    else:\n",
    "        return numbers[size//2]\n",
    "\n",
    "# 绝对与相对误差\n",
    "def rel_dev(numbers, average):\n",
    "    _max = max(abs(max(numbers) - average), abs(min(numbers) - average))\n",
    "    return _max, _max / average\n",
    "\n",
    "def main():\n",
    "    nums = getNum()\n",
    "    if len(nums) == 0:\n",
    "        print('no data')\n",
    "    else:\n",
    "        ave = average(nums)\n",
    "        devs = rel_dev(nums, ave)\n",
    "        print('和:{:.4f},平均数:{:.4f},中位数:{:.4f},方差:{:.4f},绝对误差:{:4f},相对误差:{:.4f}' \\\n",
    "            .format(sum(nums), ave, median(nums), dev(nums, ave), devs[0], devs[1]))\n",
    "\n",
    "if __name__ == '__main__':\n",
    "    main()"
   ]
  },
  {
   "cell_type": "code",
   "execution_count": null,
   "metadata": {},
   "outputs": [],
   "source": [
    "#升序排列\n",
    "l=[]\n",
    "for i in range (1,5):\n",
    "    x=int(input(\"input number:\"))\n",
    "    l.append(x)\n",
    "l.sort()\n",
    "print(l)\n",
    "    "
   ]
  },
  {
   "cell_type": "code",
   "execution_count": null,
   "metadata": {},
   "outputs": [],
   "source": []
  }
 ],
 "metadata": {
  "kernelspec": {
   "display_name": "Python 3",
   "language": "python",
   "name": "python3"
  },
  "language_info": {
   "codemirror_mode": {
    "name": "ipython",
    "version": 3
   },
   "file_extension": ".py",
   "mimetype": "text/x-python",
   "name": "python",
   "nbconvert_exporter": "python",
   "pygments_lexer": "ipython3",
   "version": "3.8.0"
  }
 },
 "nbformat": 4,
 "nbformat_minor": 4
}
