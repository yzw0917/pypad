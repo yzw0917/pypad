{
 "cells": [
  {
   "cell_type": "code",
   "execution_count": null,
   "metadata": {},
   "outputs": [],
   "source": [
    "print ('fjcbsjdjbd\\t' * 3)"
   ]
  },
  {
   "cell_type": "code",
   "execution_count": null,
   "metadata": {
    "scrolled": false
   },
   "outputs": [],
   "source": [
    "import time\n",
    "\n",
    "for i in range (1,3):\n",
    "   print(\"第\",i,\"天,\", \" \"*i,  \"归来吧！浪迹天涯的游子！\\n\"*i)\n",
    "   # time.sleep(0.2)"
   ]
  },
  {
   "cell_type": "code",
   "execution_count": 2,
   "metadata": {
    "scrolled": true
   },
   "outputs": [
    {
     "name": "stdout",
     "output_type": "stream",
     "text": [
      "1×1=1\t\n",
      "1×2=2\t2×2=4\t\n",
      "1×3=3\t2×3=6\t3×3=9\t\n",
      "1×4=4\t2×4=8\t3×4=12\t4×4=16\t\n",
      "1×5=5\t2×5=10\t3×5=15\t4×5=20\t5×5=25\t\n",
      "1×6=6\t2×6=12\t3×6=18\t4×6=24\t5×6=30\t6×6=36\t\n",
      "1×7=7\t2×7=14\t3×7=21\t4×7=28\t5×7=35\t6×7=42\t7×7=49\t\n",
      "1×8=8\t2×8=16\t3×8=24\t4×8=32\t5×8=40\t6×8=48\t7×8=56\t8×8=64\t\n",
      "1×9=9\t2×9=18\t3×9=27\t4×9=36\t5×9=45\t6×9=54\t7×9=63\t8×9=72\t9×9=81\t\n"
     ]
    }
   ],
   "source": [
    "for i in range(1, 10):\n",
    "    for j in range(1, i+1):\n",
    "        # print(f'{i}×{j}={i*j}', end='\\t')\n",
    "        print('%d×%d=%d' % (j, i, i*j), end='\\t')\n",
    "    print()"
   ]
  },
  {
   "cell_type": "code",
   "execution_count": null,
   "metadata": {
    "scrolled": true
   },
   "outputs": [],
   "source": [
    "def triangle():\n",
    "    line = [1]         # 第一行就一个元素1\n",
    "    while True:\n",
    "        yield line\n",
    "        # 生成下一行，表达式为 : [1] + 上一行的两个元素之和 + [1]\n",
    "        line = [1] + [line[i] + line[i + 1] for i in range(len(line) - 1)] + [1]\n",
    "n = 0     # 控制输出行数\n",
    "for item in triangle():\n",
    "    print(item)\n",
    "    n += 1\n",
    "    if n % 10 == 0:\n",
    "        break"
   ]
  },
  {
   "cell_type": "code",
   "execution_count": null,
   "metadata": {
    "scrolled": false
   },
   "outputs": [],
   "source": [
    "print(\"i\",\"am \"*3,\"studying\",\"python\",sep=\"  \",end=\" \")"
   ]
  },
  {
   "cell_type": "code",
   "execution_count": null,
   "metadata": {},
   "outputs": [],
   "source": [
    "name = \"jackson\"\n",
    "age = 22\n",
    "salary = 5000.0\n",
    "print(\"name:%s,age:%d,salary:%.3f\" % (name,age,salary))"
   ]
  },
  {
   "cell_type": "code",
   "execution_count": null,
   "metadata": {
    "scrolled": true
   },
   "outputs": [],
   "source": [
    "#python特有的输出形式\n",
    "print(\"I like eating {} and {}\".format(\"banana\", \"pear\"))  #按位置填充\n",
    "print(\"His name is {name} and he is a {sex}\".format(sex='male',name='judy'))   #按具体名字填充\n",
    "print(\"{1} can arm our {0}\".format(\"brain\",\"knowledge\"))                       #按编号填充\n",
    "print(\"The happiness rate of chinese citizen is up to {:.3f}\".format(0.45))    #设置浮点数输出格式为小数点后三位\n",
    "print(\"The population of china is {:,d} million\".format(1300))                 #千分位用逗号表示"
   ]
  },
  {
   "cell_type": "code",
   "execution_count": null,
   "metadata": {},
   "outputs": [],
   "source": []
  },
  {
   "cell_type": "code",
   "execution_count": null,
   "metadata": {},
   "outputs": [],
   "source": []
  }
 ],
 "metadata": {
  "kernelspec": {
   "display_name": "Python 3",
   "language": "python",
   "name": "python3"
  },
  "language_info": {
   "codemirror_mode": {
    "name": "ipython",
    "version": 3
   },
   "file_extension": ".py",
   "mimetype": "text/x-python",
   "name": "python",
   "nbconvert_exporter": "python",
   "pygments_lexer": "ipython3",
   "version": "3.8.0"
  }
 },
 "nbformat": 4,
 "nbformat_minor": 4
}
