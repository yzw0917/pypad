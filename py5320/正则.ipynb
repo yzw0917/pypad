{
 "cells": [
  {
   "cell_type": "code",
   "execution_count": null,
   "metadata": {},
   "outputs": [],
   "source": [
    "一、元字符 （参见 python 模块 re 文档）\n",
    "\n",
    "        .                    匹配任意字符（不包括换行符）\n",
    "        ^                    匹配开始位置，多行模式下匹配每一行的开始\n",
    "        $                    匹配结束位置，多行模式下匹配每一行的结束\n",
    "        *                    匹配前一个元字符0到多次\n",
    "        +                    匹配前一个元字符1到多次\n",
    "        ?                    匹配前一个元字符0到1次\n",
    "        {m,n}                匹配前一个元字符m到n次\n",
    "        \\\\                   转义字符，跟在其后的字符将失去作为特殊元字符的含义，例如\\\\.只能匹配.，不能再匹配任意字符\n",
    "        []                   字符集，一个字符的集合，可匹配其中任意一个字符\n",
    "        |                    逻辑表达式 或 ，比如 a|b 代表可匹配 a 或者 b\n",
    "        (...)                分组，默认为捕获，即被分组的内容可以被单独取出，默认每个分组有个索引，从 1 开始，按照\"(\"的顺序决定索引值\n",
    "        (?iLmsux)            分组中可以设置模式，iLmsux之中的每个字符代表一个模式,用法参见 模式 I\n",
    "        (?:...)              分组的不捕获模式，计算索引时会跳过这个分组\n",
    "        (?P<name>...)        分组的命名模式，取此分组中的内容时可以使用索引也可以使用name\n",
    "        (?P=name)            分组的引用模式，可在同一个正则表达式用引用前面命名过的正则\n",
    "        (?#...)              注释，不影响正则表达式其它部分,用法参见 模式 I\n",
    "        (?=...)              顺序肯定环视，表示所在位置右侧能够匹配括号内正则\n",
    "        (?!...)              顺序否定环视，表示所在位置右侧不能匹配括号内正则\n",
    "        (?<=...)             逆序肯定环视，表示所在位置左侧能够匹配括号内正则\n",
    "        (?<!...)             逆序否定环视，表示所在位置左侧不能匹配括号内正则\n",
    "        (?(id/name)yes|no)   若前面指定id或name的分区匹配成功则执行yes处的正则，否则执行no处的正则\n",
    "        \\number              匹配和前面索引为number的分组捕获到的内容一样的字符串\n",
    "        \\A                   匹配字符串开始位置，忽略多行模式\n",
    "        \\Z                   匹配字符串结束位置，忽略多行模式\n",
    "        \\b                   匹配位于单词开始或结束位置的空字符串\n",
    "        \\B                   匹配不位于单词开始或结束位置的空字符串\n",
    "        \\d                   匹配一个数字， 相当于 [0-9]\n",
    "        \\D                   匹配非数字,相当于 [^0-9]\n",
    "        \\s                   匹配任意空白字符， 相当于 [ \\t\\n\\r\\f\\v]\n",
    "        \\S                   匹配非空白字符，相当于 [^ \\t\\n\\r\\f\\v]\n",
    "        \\w                   匹配数字、字母、下划线中任意一个字符， 相当于 [a-zA-Z0-9_]\n",
    "        \\W                   匹配非数字、字母、下划线中的任意字符，相当于 [^a-zA-Z0-9_]\n"
   ]
  },
  {
   "cell_type": "code",
   "execution_count": 7,
   "metadata": {
    "scrolled": true
   },
   "outputs": [
    {
     "name": "stdout",
     "output_type": "stream",
     "text": [
      "\n",
      " 输入变量值：\n",
      "09\n",
      "0909\n"
     ]
    }
   ],
   "source": [
    "import os\n",
    "import time\n",
    "time.sleep(3)\n",
    "op=input(\"\\n 输入变量值：\\n\")\n",
    "print(op*2)"
   ]
  },
  {
   "cell_type": "code",
   "execution_count": null,
   "metadata": {},
   "outputs": [],
   "source": []
  }
 ],
 "metadata": {
  "kernelspec": {
   "display_name": "Python 3",
   "language": "python",
   "name": "python3"
  },
  "language_info": {
   "codemirror_mode": {
    "name": "ipython",
    "version": 3
   },
   "file_extension": ".py",
   "mimetype": "text/x-python",
   "name": "python",
   "nbconvert_exporter": "python",
   "pygments_lexer": "ipython3",
   "version": "3.8.0"
  }
 },
 "nbformat": 4,
 "nbformat_minor": 4
}
