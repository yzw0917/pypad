{
 "cells": [
  {
   "cell_type": "code",
   "execution_count": 1,
   "metadata": {},
   "outputs": [],
   "source": [
    "import cv2\n",
    "import numpy as np\n",
    "\n",
    "cap = cv2.VideoCapture(0)  #前置摄像 1 后置 0\n",
    "while(1):\n",
    "    # get a frame\n",
    "    ret, frame = cap.read()\n",
    "    # show a frame\n",
    "    cv2.imshow(\"前置\", frame)\n",
    "    if cv2.waitKey(1) & 0xFF == ord('q'):\n",
    "        break\n",
    "cap.release()\n",
    "cv2.destroyAllWindows()"
   ]
  },
  {
   "cell_type": "code",
   "execution_count": 14,
   "metadata": {},
   "outputs": [],
   "source": [
    "# -*- coding: utf-8 -*-\n",
    "import numpy as np\n",
    "import cv2\n",
    " \n",
    "def Contrast_and_Brightness(alpha, beta, img):\n",
    "    blank = np.zeros(img.shape, img.dtype)\n",
    "    # dst = alpha * img + (1-alpha) * blank + beta\n",
    "    dst = cv2.addWeighted(img, alpha, blank, 1-alpha, beta)\n",
    "    return dst\n",
    " \n",
    "cap0 = cv2.VideoCapture(0)\n",
    " \n",
    "while (cap.isOpened()):\n",
    "    ret, frame = cap.read()  ##ret返回布尔量\n",
    "    cv2.imshow('frame', frame)\n",
    " \n",
    "    # gray = cv2.cvtColor(frame, cv2.COLOR_BGR2GRAY)\n",
    "    frame1=Contrast_and_Brightness(1.8, 1.3, frame)\n",
    " \n",
    "    cv2.imshow('frame1', frame1)\n",
    "    if cv2.waitKey(1) & 0xFF == ord('q'):\n",
    "        break\n",
    " \n",
    "cap.release()\n",
    "cv2.destroyAllWindows()\n"
   ]
  },
  {
   "cell_type": "code",
   "execution_count": 3,
   "metadata": {},
   "outputs": [],
   "source": [
    "import cv2\n",
    "capture = cv2.VideoCapture(1)\n",
    "while True:\n",
    "    ret, frame = capture.read()\n",
    "    frame = cv2.flip(frame,1)   #镜像操作\n",
    "    cv2.imshow(\"video\", frame)\n",
    "    key = cv2.waitKey(50)\n",
    "    #print(key)\n",
    "    if key  == ord('q'):  #判断是哪一个键按下\n",
    "        break\n",
    "capture.release()\n",
    "cv2.destroyAllWindows()"
   ]
  }
 ],
 "metadata": {
  "kernelspec": {
   "display_name": "Python 3",
   "language": "python",
   "name": "python3"
  },
  "language_info": {
   "codemirror_mode": {
    "name": "ipython",
    "version": 3
   },
   "file_extension": ".py",
   "mimetype": "text/x-python",
   "name": "python",
   "nbconvert_exporter": "python",
   "pygments_lexer": "ipython3",
   "version": "3.8.1"
  }
 },
 "nbformat": 4,
 "nbformat_minor": 4
}
