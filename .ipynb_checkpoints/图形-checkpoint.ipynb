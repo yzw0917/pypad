{
 "cells": [
  {
   "cell_type": "code",
   "execution_count": 4,
   "metadata": {},
   "outputs": [],
   "source": [
    "import cv2\n",
    "import numpy as np\n",
    "\n",
    "img3 = np.random.random((600, 800, 3))\n",
    "\n",
    "while 1:\n",
    "    img3 = np.random.random((600, 800, 3))\n",
    "    img3 *= 1\n",
    "    img3 = img3.round()\n",
    "    cv2.imshow('img',img3)\n",
    "    if cv2.waitKey(1) & 0xff == ord('q'):\n",
    "        break\n",
    "\n",
    "cv2.destroyAllWindows()"
   ]
  },
  {
   "cell_type": "code",
   "execution_count": 1,
   "metadata": {},
   "outputs": [],
   "source": [
    "import numpy\n",
    "import cv2\n",
    "\n",
    "# Create a black image\n",
    "img = numpy.zeros((512, 512, 3), numpy.uint8)\n",
    "\n",
    "# Draw a diagonal blue line with thickness of 5 px\n",
    "cv2.line(img, (0, 0), (511, 511), (255, 0, 0), 5)\n",
    "\n",
    "# draw a rectangle\n",
    "cv2.rectangle(img, (384, 0), (510, 128), (0, 255, 0), 3)\n",
    "\n",
    "# draw a circle\n",
    "cv2.circle(img, (447, 63), 63, (0, 0, 255), -1)\n",
    "\n",
    "# add text\n",
    "font = cv2.FONT_HERSHEY_SIMPLEX\n",
    "cv2.putText(img, 'Meng', (10, 500), font, 4, (255, 255, 255), 2)\n",
    "# cv2.putText(img,'OpenCV',(10,500), font, 4,(255,255,255),2,cv2.LINE_AA)   # cv2.LINE_AA not found\n",
    "\n",
    "# write file to disk\n",
    "# cv2.namedWindow(\"Image\")\n",
    "\n",
    "cv2.imshow(\"Image\", img)\n",
    "key = cv2.waitKey(0)\n",
    "cv2.destroyAllWindows()  "
   ]
  }
 ],
 "metadata": {
  "kernelspec": {
   "display_name": "Python 3",
   "language": "python",
   "name": "python3"
  },
  "language_info": {
   "codemirror_mode": {
    "name": "ipython",
    "version": 3
   },
   "file_extension": ".py",
   "mimetype": "text/x-python",
   "name": "python",
   "nbconvert_exporter": "python",
   "pygments_lexer": "ipython3",
   "version": "3.8.1"
  }
 },
 "nbformat": 4,
 "nbformat_minor": 4
}
