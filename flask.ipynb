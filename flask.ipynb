{
 "cells": [
  {
   "cell_type": "code",
   "execution_count": null,
   "metadata": {},
   "outputs": [],
   "source": [
    "from flask import Flask\n",
    "\n",
    "app = Flask(__name__)\n",
    "\n",
    "@app.route(\"/\")\n",
    "def hello():\n",
    "  return '''<p>您可以忽略有关迁移的警告 - </p>'''\n",
    "if __name__ == \"__main__\":\n",
    "  app.run()"
   ]
  },
  {
   "cell_type": "code",
   "execution_count": 24,
   "metadata": {
    "scrolled": true
   },
   "outputs": [
    {
     "name": "stdout",
     "output_type": "stream",
     "text": [
      " ID, NAME,  AGE\n",
      "(1, '张三李四', 19)\n",
      "(2, '王老五', 26)\n",
      "(3, '王老五', 26)\n",
      "(4, '王老五', 26)\n",
      "(5, '张三李四', 19)\n",
      "(6, '王老五', 26)\n",
      "(7, '王老五', 26)\n",
      "(8, '王老五', 26)\n"
     ]
    }
   ],
   "source": [
    "import sqlite3\n",
    "con=sqlite3.connect(\"d:\\Test56125.db\")\n",
    "cur=con.cursor()\n",
    "cur.execute(\"CREATE TABLE IF NOT EXISTS test(id INTEGER PRIMARY KEY AUTOINCREMENT,name TEXT,age INTEGER)\")\n",
    "# con.commit()\n",
    "# cur.execute(\"DELETE FROM test WHERE id=7 OR id=8\")\n",
    "cur.executemany('INSERT OR IGNORE INTO test(name,age) VALUES (?,?)',[('张三李四',19),('王老五',26),('王老五',26),('王老五',26)])\n",
    "con.commit()  #提交更新数据库，增删改以后必须的\n",
    "# cur.execute(\"UPDATE test SET name='haha' WHERE id=1\")\n",
    "# print(cur.fetchall())\n",
    "cur.execute(\"select * from test\")\n",
    "print (\" ID, NAME,  AGE\")\n",
    "for item in cur:\n",
    "    print(item)\n",
    "cur.close()\n",
    "con.close()"
   ]
  },
  {
   "cell_type": "code",
   "execution_count": null,
   "metadata": {},
   "outputs": [],
   "source": [
    ""
   ]
  },
  {
   "cell_type": "code",
   "execution_count": null,
   "metadata": {},
   "outputs": [],
   "source": [
    ""
   ]
  },
  {
   "cell_type": "code",
   "execution_count": null,
   "metadata": {},
   "outputs": [],
   "source": [
    ""
   ]
  }
 ],
 "metadata": {
  "kernelspec": {
   "display_name": "Python 3",
   "language": "python",
   "name": "python3"
  },
  "language_info": {
   "codemirror_mode": {
    "name": "ipython",
    "version": 3.0
   },
   "file_extension": ".py",
   "mimetype": "text/x-python",
   "name": "python",
   "nbconvert_exporter": "python",
   "pygments_lexer": "ipython3",
   "version": "3.8.1"
  }
 },
 "nbformat": 4,
 "nbformat_minor": 0
}