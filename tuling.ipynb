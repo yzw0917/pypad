{
 "cells": [
  {
   "cell_type": "code",
   "execution_count": 2,
   "metadata": {},
   "outputs": [
    {
     "name": "stdout",
     "output_type": "stream",
     "text": [
      "我: 6236\n"
     ]
    },
    {
     "ename": "TypeError",
     "evalue": "getHtml() takes 0 positional arguments but 1 was given",
     "traceback": [
      "\u001b[1;31m---------------------------------------------------------------------------\u001b[0m",
      "\u001b[1;31mTypeError\u001b[0m                                 Traceback (most recent call last)",
      "\u001b[1;32m<ipython-input-2-18f9d1eb67e6>\u001b[0m in \u001b[0;36m<module>\u001b[1;34m\u001b[0m\n\u001b[0;32m     16\u001b[0m         \u001b[0minfo\u001b[0m \u001b[1;33m=\u001b[0m \u001b[0minput\u001b[0m\u001b[1;33m(\u001b[0m\u001b[1;34m'我: '\u001b[0m\u001b[1;33m)\u001b[0m\u001b[1;33m\u001b[0m\u001b[1;33m\u001b[0m\u001b[0m\n\u001b[0;32m     17\u001b[0m         \u001b[0mrequest\u001b[0m \u001b[1;33m=\u001b[0m \u001b[0mapi\u001b[0m \u001b[1;33m+\u001b[0m \u001b[0minfo\u001b[0m\u001b[1;33m\u001b[0m\u001b[1;33m\u001b[0m\u001b[0m\n\u001b[1;32m---> 18\u001b[1;33m         \u001b[0mresponse\u001b[0m \u001b[1;33m=\u001b[0m \u001b[0mgetHtml\u001b[0m\u001b[1;33m(\u001b[0m\u001b[0mrequest\u001b[0m\u001b[1;33m)\u001b[0m\u001b[1;33m\u001b[0m\u001b[1;33m\u001b[0m\u001b[0m\n\u001b[0m\u001b[0;32m     19\u001b[0m         \u001b[0mdic_json\u001b[0m \u001b[1;33m=\u001b[0m \u001b[0mjson\u001b[0m\u001b[1;33m.\u001b[0m\u001b[0mloads\u001b[0m\u001b[1;33m(\u001b[0m\u001b[0mresponse\u001b[0m\u001b[1;33m)\u001b[0m\u001b[1;33m\u001b[0m\u001b[1;33m\u001b[0m\u001b[0m\n\u001b[0;32m     20\u001b[0m         \u001b[0mprint\u001b[0m\u001b[1;33m\u001b[0m\u001b[1;33m\u001b[0m\u001b[0m\n",
      "\u001b[1;31mTypeError\u001b[0m: getHtml() takes 0 positional arguments but 1 was given"
     ],
     "output_type": "error"
    }
   ],
   "source": [
    "# coding=UTF-8\n",
    "import urllib\n",
    "import json\n",
    "\n",
    "\n",
    "def getHtml():\n",
    "    page = urllib.request()\n",
    "    html = page.read()\n",
    "    return html\n",
    "\n",
    "\n",
    "if __name__ == '__main__':\n",
    "    key = '7d9bb31cd1304388a7fce2040e0482fa'\n",
    "    api = 'http://www.tuling123.com/openapi/api?key=' + key + '&info='\n",
    "    while True:\n",
    "        info = input('我: ')\n",
    "        request = api + info\n",
    "        response = getHtml(request)\n",
    "        dic_json = json.loads(response)\n",
    "        print\n",
    "        ('机器人: '.decode('gbk') + dic_json['text'])"
   ]
  },
  {
   "cell_type": "code",
   "execution_count": 5,
   "metadata": {},
   "outputs": [
    {
     "data": {
      "text/plain": [
       "0"
      ]
     },
     "execution_count": 5,
     "metadata": {},
     "output_type": "execute_result"
    }
   ],
   "source": [
    "import  os\n",
    "os.system(\"notepad\")\n",
    "os.system(\"calc\")"
   ]
  },
  {
   "cell_type": "code",
   "execution_count": 8,
   "metadata": {},
   "outputs": [
    {
     "name": "stdout",
     "output_type": "stream",
     "text": [
      "我想吃 苹果 \t\n",
      "我想吃 香蕉 \t\n",
      "我想吃 法国香梨 \t\n",
      "我想吃 泰国椰子 \t\n",
      "我想吃 项目起来了 \t\n"
     ]
    }
   ],
   "source": [
    "# coding=gbk\n",
    "words=['苹果','香蕉','法国香梨','泰国椰子','项目起来了']\n",
    "for i in words:\n",
    "    print (\"我想吃\",i,'\\t')"
   ]
  }
 ],
 "metadata": {
  "kernelspec": {
   "display_name": "Python 3",
   "language": "python",
   "name": "python3"
  },
  "language_info": {
   "codemirror_mode": {
    "name": "ipython",
    "version": 3.0
   },
   "file_extension": ".py",
   "mimetype": "text/x-python",
   "name": "python",
   "nbconvert_exporter": "python",
   "pygments_lexer": "ipython3",
   "version": "3.8.1"
  }
 },
 "nbformat": 4,
 "nbformat_minor": 0
}